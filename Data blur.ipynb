{
 "cells": [
  {
   "cell_type": "code",
   "execution_count": 3,
   "id": "73c14bc3",
   "metadata": {},
   "outputs": [],
   "source": [
    "import os\n",
    "import numpy as np\n",
    "import cv2\n",
    "\n",
    "from tqdm import tqdm"
   ]
  },
  {
   "cell_type": "code",
   "execution_count": 8,
   "id": "6eb781ee",
   "metadata": {},
   "outputs": [],
   "source": [
    "os.makedirs('input/gaussian_blurred', exist_ok=True)\n",
    "src_dir = 'input/sharp'\n",
    "images = os.listdir(src_dir)\n",
    "dst_dir = 'input/gaussian_blurred'"
   ]
  },
  {
   "cell_type": "code",
   "execution_count": 15,
   "id": "c3b03657",
   "metadata": {},
   "outputs": [],
   "source": [
    "for i, img in enumerate(images):\n",
    "    img = cv2.imread(f\"{src_dir}/{images[i]}\", cv2.IMREAD_COLOR)\n",
    "    blur = cv2.GaussianBlur(img, (31,31), 0)\n",
    "    cv2.imwrite(f\"{dst_dir}/{images[i]}\", blur)"
   ]
  },
  {
   "cell_type": "code",
   "execution_count": null,
   "id": "a7f41a46",
   "metadata": {},
   "outputs": [],
   "source": []
  }
 ],
 "metadata": {
  "kernelspec": {
   "display_name": "Python 3 (ipykernel)",
   "language": "python",
   "name": "python3"
  },
  "language_info": {
   "codemirror_mode": {
    "name": "ipython",
    "version": 3
   },
   "file_extension": ".py",
   "mimetype": "text/x-python",
   "name": "python",
   "nbconvert_exporter": "python",
   "pygments_lexer": "ipython3",
   "version": "3.9.7"
  }
 },
 "nbformat": 4,
 "nbformat_minor": 5
}
